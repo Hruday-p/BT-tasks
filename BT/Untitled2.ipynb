{
  "nbformat": 4,
  "nbformat_minor": 0,
  "metadata": {
    "colab": {
      "provenance": []
    },
    "kernelspec": {
      "name": "python3",
      "display_name": "Python 3"
    },
    "language_info": {
      "name": "python"
    }
  },
  "cells": [
    {
      "cell_type": "code",
      "execution_count": 7,
      "metadata": {
        "id": "7WCaSrz1KBYU"
      },
      "outputs": [],
      "source": [
        "import pandas as pd\n",
        "import numpy as np\n",
        "from sklearn.ensemble import RandomForestRegressor\n",
        "from sklearn.preprocessing import MinMaxScaler\n",
        "from sklearn.metrics import mean_absolute_error, mean_squared_error"
      ]
    },
    {
      "cell_type": "code",
      "source": [
        "e_files = [\"/content/Ethereum Historical Data.csv\", \"/content/Ethereum Historical Data (1).csv\", \"/content/Ethereum Historical Data (2).csv\"]\n",
        "b_files = [\"/content/Bitcoin Historical Data.csv\", \"/content/Bitcoin Historical Data (1).csv\", \"/content/Bitcoin Historical Data (2).csv\"]\n",
        "t_files = [\"/content/TRON Inc Stock Price History.csv\", \"/content/TRON Inc Stock Price History (1).csv\", \"/content/TRON Inc Stock Price History (2).csv\"]"
      ],
      "metadata": {
        "id": "Ft3tjcaQKTzE"
      },
      "execution_count": 8,
      "outputs": []
    },
    {
      "cell_type": "code",
      "source": [
        "def load_concat(files):\n",
        "    dfs = [pd.read_csv(f.replace('﻿', '')) for f in files]\n",
        "    df = pd.concat(dfs, axis=0, ignore_index=True)\n",
        "    for col in ['Price', 'Open', 'High', 'Low', 'Vol.']:\n",
        "        df[col] = df[col].astype(str).str.replace(',', '').str.replace('K','e3').str.replace('M','e6').str.strip()\n",
        "        df[col] = df[col].replace({'e3':'*1e3','e6':'*1e6'}, regex=True)\n",
        "        df[col] = df[col].map(lambda x: eval(str(x)) if 'e' in str(x) else x)\n",
        "        df[col] = pd.to_numeric(df[col], errors='coerce')\n",
        "    df['Change %'] = df['Change %'].astype(str).str.replace('%','').str.replace(',','').str.strip()\n",
        "    df['Change %'] = pd.to_numeric(df['Change %'].replace('', 0))\n",
        "    df['Date'] = pd.to_datetime(df['Date'], format='%m/%d/%Y', errors='coerce')\n",
        "    df = df.sort_values('Date')\n",
        "    return df.reset_index(drop=True)"
      ],
      "metadata": {
        "id": "t1KdRA4rKX-P"
      },
      "execution_count": 9,
      "outputs": []
    },
    {
      "cell_type": "code",
      "source": [
        "df_eth = load_concat(e_files)\n",
        "df_btc = load_concat(b_files)\n",
        "df_tron = load_concat(t_files)"
      ],
      "metadata": {
        "id": "RxpjmOM0KbLl"
      },
      "execution_count": 10,
      "outputs": []
    },
    {
      "cell_type": "code",
      "source": [
        "features = ['Open', 'High', 'Low', 'Vol.', 'Change %']\n",
        "scaler_eth = MinMaxScaler()\n",
        "scaler_btc = MinMaxScaler()\n",
        "scaler_tron = MinMaxScaler()\n",
        "df_eth[features] = scaler_eth.fit_transform(df_eth[features])\n",
        "df_btc[features] = scaler_btc.fit_transform(df_btc[features])\n",
        "df_tron[features] = scaler_tron.fit_transform(df_tron[features])"
      ],
      "metadata": {
        "id": "QcQQ00ccfqIL"
      },
      "execution_count": 11,
      "outputs": []
    },
    {
      "cell_type": "code",
      "source": [
        "# Model training - Random Forest\n",
        "def train_rf(df, features, target='Price'):\n",
        "    X = df[features]\n",
        "    y = df[target]\n",
        "    split = int(len(df)*0.8)\n",
        "    X_train, X_test = X[:split], X[split:]\n",
        "    y_train, y_test = y[:split], y[split:]\n",
        "    model = RandomForestRegressor(n_estimators=100, random_state=42)\n",
        "    model.fit(X_train, y_train)\n",
        "    y_pred = model.predict(X_test)\n",
        "    mae = mean_absolute_error(y_test, y_pred)\n",
        "    rmse = np.sqrt(mean_squared_error(y_test, y_pred))\n",
        "    return mae, rmse"
      ],
      "metadata": {
        "id": "7T1lyN1yKsL3"
      },
      "execution_count": 12,
      "outputs": []
    },
    {
      "cell_type": "code",
      "source": [
        "eth_rf_mae, eth_rf_rmse = train_rf(df_eth, features)\n",
        "btc_rf_mae, btc_rf_rmse = train_rf(df_btc, features)\n",
        "tron_rf_mae, tron_rf_rmse = train_rf(df_tron, features)\n",
        "\n",
        "results = pd.DataFrame({\n",
        "    'Asset': ['Ethereum', 'Bitcoin', 'TRON'],\n",
        "    'RF MAE': [eth_rf_mae, btc_rf_mae, tron_rf_mae],\n",
        "    'RF RMSE': [eth_rf_rmse, btc_rf_rmse, tron_rf_rmse]\n",
        "})\n",
        "results.to_csv('blockchain_latency_prediction_rf_results.csv', index=False)\n",
        "print(results)\n"
      ],
      "metadata": {
        "colab": {
          "base_uri": "https://localhost:8080/"
        },
        "id": "BaC1oEjIKleC",
        "outputId": "5161c9be-92c9-4d22-933d-8f10135f5a68"
      },
      "execution_count": 13,
      "outputs": [
        {
          "output_type": "stream",
          "name": "stdout",
          "text": [
            "      Asset      RF MAE     RF RMSE\n",
            "0  Ethereum  126.908700  156.875963\n",
            "1   Bitcoin  829.473091  994.466779\n",
            "2      TRON    0.748435    0.979000\n"
          ]
        }
      ]
    }
  ]
}